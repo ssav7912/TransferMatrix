{
 "cells": [
  {
   "cell_type": "code",
   "execution_count": 131,
   "metadata": {},
   "outputs": [
    {
     "name": "stdout",
     "output_type": "stream",
     "text": [
      "[64, 64, 64, 64]\n",
      "[(0.0, 1.0), (0.0, 1.0), (0.0, 4.0), (0.0, 4.0)]\n",
      "(64, 64, 64, 32)\n",
      "float32\n",
      "(64, 64, 2048)\n"
     ]
    }
   ],
   "source": [
    "import struct\n",
    "import numpy as np\n",
    "from matplotlib import pyplot as plt\n",
    "from matplotlib import cm \n",
    "from matplotlib.colors import ListedColormap\n",
    "from PIL import Image\n",
    "\n",
    "def load_lut_from_file(path: str, dim: int) -> np.ndarray:\n",
    "    with open(path, 'rb') as lut:\n",
    "        \n",
    "        \n",
    "        size = [int.from_bytes(lut.read(4), 'little') for x in range(dim)]\n",
    "        minmax = [(struct.unpack('f', lut.read(4))[0], struct.unpack('f', lut.read(4))[0]) for x in range(dim)]\n",
    "        \n",
    "        buffer = lut.read()\n",
    "\n",
    "\n",
    "        print(size)\n",
    "        print(minmax)\n",
    "\n",
    "        flatarray = np.frombuffer(buffer, dtype=np.float32)\n",
    "        flatarray = np.reshape(flatarray, size)\n",
    "\n",
    "        return flatarray\n",
    "\n",
    "\n",
    "FGD = load_lut_from_file(\"tm_FGD.bin\", 4)\n",
    "\n",
    "FGD = FGD.astype(np.float32)\n",
    "\n",
    "FGD = np.swapaxes(FGD, 0,3)\n",
    "FGD = np.swapaxes(FGD, 1,2)\n",
    "FGD_resample = FGD.reshape((*FGD.shape[:3], FGD.shape[3]//2, 2))\n",
    "#print(FGD_resample.shape)\n",
    "\n",
    "FGD_resample_mean = np.mean(FGD_resample, axis=(4,))\n",
    "\n",
    "\n",
    "#FGD_resample_mean = np.delete(FGD, slice(None, None, 2), 3)\n",
    "print(FGD_resample_mean.shape)\n",
    "\n",
    "\n",
    "newFGD = FGD_resample_mean.reshape((*FGD_resample_mean.shape[:2], FGD_resample_mean.shape[2] * FGD_resample_mean.shape[3]))\n",
    "\n",
    "#outFGD = np.rot90(newFGD, 1, axes=(0,1))\n",
    "#outFGD = np.flipud(outFGD)\n",
    "\n",
    "outFGD = newFGD\n",
    "print(newFGD.dtype)\n",
    "\n",
    "\n",
    "print(newFGD.shape)\n",
    "\n",
    "with open(\"tm_FGD_resample.bin\", 'wb') as fbin:\n",
    "    [fbin.write(int(x).to_bytes(4, 'little')) for x in outFGD.shape]\n",
    "    #mins and maxes\n",
    "    fbin.write(struct.pack(\"f\", 0.0))\n",
    "    fbin.write(struct.pack(\"f\", 1.0))\n",
    "    fbin.write(struct.pack(\"f\", 0.0))\n",
    "    fbin.write(struct.pack(\"f\",1.0))\n",
    "    fbin.write(struct.pack(\"f\",0.0))\n",
    "    fbin.write(struct.pack(\"f\",4.0))\n",
    "    fbin.write(struct.pack(\"f\",0.0))\n",
    "    fbin.write(struct.pack(\"f\",4.0))\n",
    "    fbin.write((outFGD.flatten('F')).tobytes('C')) #write bytes"
   ]
  },
  {
   "cell_type": "code",
   "execution_count": 133,
   "metadata": {},
   "outputs": [
    {
     "name": "stdout",
     "output_type": "stream",
     "text": [
      "(64, 64)\n",
      "0.19269407\n",
      "0.0016507553\n",
      "0.21271798\n",
      "0.006462306\n"
     ]
    },
    {
     "name": "stderr",
     "output_type": "stream",
     "text": [
      "/tmp/ipykernel_446/3762995450.py:4: MatplotlibDeprecationWarning: The get_cmap function was deprecated in Matplotlib 3.7 and will be removed in 3.11. Use ``matplotlib.colormaps[name]`` or ``matplotlib.colormaps.get_cmap()`` or ``pyplot.get_cmap()`` instead.\n",
      "  gist_heat = cm.get_cmap('gist_heat', len(newFGD))\n"
     ]
    },
    {
     "data": {
      "image/png": "[encoded data removed]",
      "text/plain": [
       "<Figure size 640x480 with 2 Axes>"
      ]
     },
     "metadata": {},
     "output_type": "display_data"
    }
   ],
   "source": [
    "fig = plt.figure(1)\n",
    "axes = fig.subplots(1,2)\n",
    "\n",
    "gist_heat = cm.get_cmap('gist_heat', len(newFGD))\n",
    "newColors= gist_heat(range(28))[:round(len(newFGD)/2)]\n",
    "newCmap = ListedColormap(newColors)\n",
    "\n",
    "print(newFGD[:,:,0].shape)\n",
    "\n",
    "FGDSlice = axes[0].imshow(newFGD[:,:,32], vmin=0.0, vmax=1.0, cmap=newCmap, origin='upper')\n",
    "oldslice = axes[1].imshow(FGD[:,:,0,32], vmin =0.0, vmax=1.0, cmap=newCmap, origin='upper')\n",
    "print(FGD[63, 0, 15, 15])\n",
    "print(FGD[63,0, 15, 1])\n",
    "\n",
    "#outFGDtest = outFGD.reshape(64, 64, 2048)\n",
    "\n",
    "print(outFGD[63,0, 513+7])\n",
    "print(outFGD[63,0,513])\n"
   ]
  },
  {
   "cell_type": "code",
   "execution_count": 46,
   "metadata": {},
   "outputs": [
    {
     "name": "stdout",
     "output_type": "stream",
     "text": [
      "Iter 0: src: [0:262144]: 262144, dest [0: 262144]: 262144\n",
      "Iter 1: src: [262144:524288]: 262144, dest [262144: 524288]: 262144\n",
      "Iter 2: src: [524288:786432]: 262144, dest [524288: 786432]: 262144\n",
      "Iter 3: src: [524288:786432]: 262144, dest [786432: 1048576]: 262144\n",
      "Iter 4: src: [786432:1048576]: 262144, dest [1048576: 1310720]: 262144\n",
      "Iter 5: src: [786432:1048576]: 262144, dest [1310720: 1572864]: 262144\n",
      "Iter 6: src: [1048576:1310720]: 262144, dest [1572864: 1835008]: 262144\n",
      "Iter 7: src: [1048576:1310720]: 262144, dest [1835008: 2097152]: 262144\n",
      "Iter 8: src: [1310720:1572864]: 262144, dest [2097152: 2359296]: 262144\n",
      "Iter 9: src: [1310720:1572864]: 262144, dest [2359296: 2621440]: 262144\n",
      "Iter 10: src: [1572864:1835008]: 262144, dest [2621440: 2883584]: 262144\n",
      "Iter 11: src: [1572864:1835008]: 262144, dest [2883584: 3145728]: 262144\n",
      "Iter 12: src: [1835008:2097152]: 262144, dest [3145728: 3407872]: 262144\n",
      "Iter 13: src: [1835008:2097152]: 262144, dest [3407872: 3670016]: 262144\n",
      "Iter 14: src: [2097152:2359296]: 262144, dest [3670016: 3932160]: 262144\n",
      "Iter 15: src: [2097152:2359296]: 262144, dest [3932160: 4194304]: 262144\n",
      "Iter 16: src: [2359296:2621440]: 262144, dest [4194304: 4456448]: 262144\n",
      "Iter 17: src: [2359296:2621440]: 262144, dest [4456448: 4718592]: 262144\n",
      "Iter 18: src: [2621440:2883584]: 262144, dest [4718592: 4980736]: 262144\n",
      "Iter 19: src: [2621440:2883584]: 262144, dest [4980736: 5242880]: 262144\n",
      "Iter 20: src: [2883584:3145728]: 262144, dest [5242880: 5505024]: 262144\n",
      "Iter 21: src: [2883584:3145728]: 262144, dest [5505024: 5767168]: 262144\n",
      "Iter 22: src: [3145728:3407872]: 262144, dest [5767168: 6029312]: 262144\n",
      "Iter 23: src: [3145728:3407872]: 262144, dest [6029312: 6291456]: 262144\n",
      "Iter 24: src: [3407872:3670016]: 262144, dest [6291456: 6553600]: 262144\n",
      "Iter 25: src: [3407872:3670016]: 262144, dest [6553600: 6815744]: 262144\n",
      "Iter 26: src: [3670016:3932160]: 262144, dest [6815744: 7077888]: 262144\n",
      "Iter 27: src: [3670016:3932160]: 262144, dest [7077888: 7340032]: 262144\n",
      "Iter 28: src: [3932160:4194304]: 262144, dest [7340032: 7602176]: 262144\n",
      "Iter 29: src: [3932160:4194304]: 262144, dest [7602176: 7864320]: 262144\n",
      "Iter 30: src: [4194304:4456448]: 262144, dest [7864320: 8126464]: 262144\n",
      "Iter 31: src: [4194304:4456448]: 262144, dest [8126464: 8388608]: 262144\n"
     ]
    },
    {
     "data": {
      "image/png": "[encoded data removed]",
      "text/plain": [
       "<Figure size 640x480 with 1 Axes>"
      ]
     },
     "metadata": {},
     "output_type": "display_data"
    }
   ],
   "source": [
    "flatFGD = FGD.T.flatten()\n",
    "stridedim = 64 * 64 * 64\n",
    "\n",
    "new_data = np.full(flatFGD.shape[0]//2, np.nan, dtype=np.float32)\n",
    "i = 0\n",
    "src_index = i\n",
    "end_index = i + stridedim\n",
    "dest_index = i\n",
    "\n",
    "while dest_index < new_data.size:\n",
    "    print(f\"Iter {i}: src: [{src_index}:{end_index}]: {end_index - src_index}, dest [{dest_index}: {dest_index +stridedim}]: {dest_index + stridedim - dest_index}\")\n",
    "    np.copyto(new_data[dest_index:dest_index + stridedim], flatFGD[src_index:end_index])\n",
    "    if (i % 2 == 0 and i != 0):\n",
    "        src_index += 0\n",
    "        end_index = src_index + stridedim\n",
    "    else:\n",
    "        src_index += stridedim\n",
    "        end_index = src_index + stridedim\n",
    "    dest_index += stridedim\n",
    "    i+=1\n",
    "\n",
    "assert(not np.any(np.isnan(new_data)))\n",
    "\n",
    "table = new_data.reshape(64,64,2048)\n",
    "\n",
    "tablefig = plt.figure(1)\n",
    "axes = tablefig.subplots(1,1)\n",
    "\n",
    "tableslice = axes.imshow(table[:,:,32], vmin=0, vmax=1, cmap=newCmap)"
   ]
  }
 ],
 "metadata": {
  "kernelspec": {
   "display_name": "Python 3",
   "language": "python",
   "name": "python3"
  },
  "language_info": {
   "codemirror_mode": {
    "name": "ipython",
    "version": 3
   },
   "file_extension": ".py",
   "mimetype": "text/x-python",
   "name": "python",
   "nbconvert_exporter": "python",
   "pygments_lexer": "ipython3",
   "version": "3.10.12"
  }
 },
 "nbformat": 4,
 "nbformat_minor": 2
}
